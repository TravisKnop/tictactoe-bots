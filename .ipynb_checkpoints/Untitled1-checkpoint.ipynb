{
 "cells": [
  {
   "cell_type": "code",
   "execution_count": null,
   "metadata": {
    "collapsed": true
   },
   "outputs": [],
   "source": [
    "import sys\n",
    "import itertools\n",
    "import collections\n",
    "\n",
    "def debug_print(information):\n",
    "    print(\"DEBUG: \", information, file=sys.stderr)\n",
    "\n",
    "\n",
    "class Board:\n",
    "    def __init__(self, team=input(),\n",
    "        first_row=input(),\n",
    "        second_row=input(),\n",
    "        third_row=input(),\n",
    "    ):\n",
    "        self.first_row = first_row\n",
    "        self.second_row = second_row\n",
    "        self.third_row = third_row\n",
    "        self.stringer = self.first_row + self.second_row + third_row\n",
    "        self.board = list(self.stringer)\n",
    "        self.all_spaces = [0, 1, 2, 3, 4, 5, 6, 7, 8]\n",
    "        self.winning_sets = [\n",
    "            [0, 1, 2],\n",
    "            [3, 4, 5],\n",
    "            [6, 7, 8],\n",
    "            [0, 3, 6],\n",
    "            [1, 4, 7],\n",
    "            [2, 5, 8],\n",
    "            [0, 4, 8],\n",
    "            [2, 4, 6]\n",
    "            ]\n",
    "\n",
    "\n",
    "    def locateX(self):\n",
    "        self.X_spaces = []\n",
    "        for key, value in enumerate(self):\n",
    "            if value == \"X\":\n",
    "                self.X_spaces.append(key)\n",
    "            return self.X_spaces\n",
    "\n",
    "    def locateO(self):\n",
    "        self.O_spaces = []\n",
    "        for key, value in enumerate(self):\n",
    "            if value == \"O\":\n",
    "                self.O_spaces.append(key)\n",
    "        return self.O_spaces\n",
    "\n",
    "    def offlimitsX(self):\n",
    "        return [x for x in all_spaces if x not in self.locateO()]\n",
    "\n",
    "    def offlimitsO(self):\n",
    "        return [x for x in all_spaces if x not in self.locateX()]\n",
    "\n",
    "    def spaces_taken(self):\n",
    "        return len(self.locateX()) + len(self.locateO())\n",
    "\n",
    "    def remaining_spaces(self):\n",
    "        return [x for x in self.all_spaces if x not in self.spaces_taken()]\n",
    "\n",
    "#def possible_winsX(self):\n",
    "#\"\"\" for b in all_spaces:\n",
    "#        for a in winning_sets:\n",
    "#            return {x:b.count(x) for x in all_spaces}\"\"\"\n",
    "#    pass\n",
    "#debug_print(X_spaces(board))\n",
    "#debug_print(Board())\n",
    "#debug_print(remaining_spaces(board))\n",
    "#debug_print(remaining_spaces(board))\n",
    "#debug_print(len(X_spaces(board)) + len(O_spaces(board)))\n",
    "#debug_print(offlimitsO(board))\n",
    "#debug_print(possible_winsX(board))\n",
    "#print(\"{} {}\".format(2, 1))\n",
    "\n",
    "\n",
    "class FirstTurn(Board):\n",
    "    def turn(self):\n",
    "        if self.spaces_taken == 0:\n",
    "            return \"{} {}\".format(1, 1)\n",
    "        else:\n",
    "            pass\n",
    "\n",
    "class SecondTurn(Board):\n",
    "    def __init__(self, spaces_taken=1):\n",
    "        self.spaces_taken = spaces_taken\n",
    "\n",
    "    def locate(self):\n",
    "        self.O_spaces = []\n",
    "        for key, value in enumerate(self):\n",
    "            if value == \"X\":\n",
    "                self.O_spaces.append(key)\n",
    "        debug_print(self.O_spaces)\n",
    "        return self.O_spaces\n",
    "\n",
    "    def first_choice(self, O_spaces):\n",
    "        if self.O_spaces != 4:\n",
    "            print(\"{} {}\".format(1, 1))\n",
    "        else:\n",
    "            print(\"{} {}\".format(2, 2))\n",
    "\n",
    "x = FirstTurn(Board())\n",
    "print(x.turn())\n",
    "print(SecondTurn(Board()))\n"
   ]
  },
  {
   "cell_type": "code",
   "execution_count": null,
   "metadata": {
    "collapsed": true
   },
   "outputs": [],
   "source": []
  },
  {
   "cell_type": "code",
   "execution_count": 6,
   "metadata": {
    "collapsed": false
   },
   "outputs": [
    {
     "name": "stdout",
     "output_type": "stream",
     "text": [
      "['[', \"'\", '_', \"'\", ',', ' ', \"'\", '_', \"'\", ',', ' ', \"'\", '_', \"'\", ']', '[', \"'\", '_', \"'\", ',', ' ', \"'\", 'X', \"'\", ',', ' ', \"'\", '_', \"'\", ']', '[', \"'\", 'O', \"'\", ',', ' ', \"'\", 'X', \"'\", ',', ' ', \"'\", '_', \"'\", ']']\n"
     ]
    }
   ],
   "source": [
    "a = [\"_\", \"_\", \"_\"]\n",
    "b = [\"_\", \"X\", \"_\"]\n",
    "c = [\"O\", \"X\", \"_\"]\n",
    "\n",
    "\n",
    "class Booboo:\n",
    "    def __init__(self, a, b, c):\n",
    "        self.a = a\n",
    "        self.b = b\n",
    "        self.c = c\n",
    "        \n",
    "    def get_board(self):\n",
    "        self.stringer = str(self.a) + str(self.b) + str(self.c)\n",
    "        self.board = list(self.a + self.b + self.c)\n",
    "        return self.board\n",
    "        \n",
    "x = Booboo(a, b, c)\n",
    "print(x.get_board())   \n",
    "    "
   ]
  },
  {
   "cell_type": "code",
   "execution_count": null,
   "metadata": {
    "collapsed": true
   },
   "outputs": [],
   "source": []
  }
 ],
 "metadata": {
  "kernelspec": {
   "display_name": "Python 3",
   "language": "python",
   "name": "python3"
  },
  "language_info": {
   "codemirror_mode": {
    "name": "ipython",
    "version": 3
   },
   "file_extension": ".py",
   "mimetype": "text/x-python",
   "name": "python",
   "nbconvert_exporter": "python",
   "pygments_lexer": "ipython3",
   "version": "3.5.0"
  }
 },
 "nbformat": 4,
 "nbformat_minor": 0
}
